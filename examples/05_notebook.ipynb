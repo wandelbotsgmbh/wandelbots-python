{
 "cells": [
  {
   "cell_type": "code",
   "execution_count": 2,
   "id": "a9eb2f8c-2527-4ea6-bc1f-8de808a88ad8",
   "metadata": {},
   "outputs": [],
   "source": [
    "import os\n",
    "from dotenv import load_dotenv\n",
    "load_dotenv()\n",
    "from wandelbots import Instance, MotionGroup, Planner\n",
    "from wandelbots.types import Pose"
   ]
  },
  {
   "cell_type": "markdown",
   "id": "6c6696d7-c0c9-46dc-b3b7-b5ae1dbe2e13",
   "metadata": {},
   "source": [
    "## ⚙️ Configure Robot"
   ]
  },
  {
   "cell_type": "code",
   "execution_count": 3,
   "id": "73548c34-9434-4043-b6a9-51ac98fac701",
   "metadata": {},
   "outputs": [],
   "source": [
    "my_instance = Instance(\n",
    "    url=os.getenv(\"WANDELAPI_BASE_URL\"),\n",
    "    user=os.getenv(\"NOVA_USERNAME\"),\n",
    "    password=os.getenv(\"NOVA_PASSWORD\"),\n",
    ")\n",
    "\n",
    "my_robot = MotionGroup(\n",
    "    instance=my_instance,\n",
    "    cell=os.getenv(\"CELL_ID\"),\n",
    "    motion_group=os.getenv(\"MOTION_GROUP\"),\n",
    "    default_tcp=os.getenv(\"TCP\"),\n",
    ")\n",
    "\n",
    "HOME = [0, -1.571, 1.571, -1.571, -1.571, 0]"
   ]
  },
  {
   "cell_type": "markdown",
   "id": "c1002989-6c6d-4b7b-b9e4-491d982cdbd6",
   "metadata": {},
   "source": [
    "## 🔩 Get Robot Props & State"
   ]
  },
  {
   "cell_type": "code",
   "execution_count": 4,
   "id": "ca1f4322-f721-469c-9b24-64fc095a21fe",
   "metadata": {},
   "outputs": [
    {
     "name": "stdout",
     "output_type": "stream",
     "text": [
      "['Flange']\n",
      "[1.17, -1.66, 1.4, -1.57, -1.57, 1.17]\n",
      "Position: [  -91,  -662,   851]\n",
      "Rotation: [ 2.14,  2.14, -0.36]\n"
     ]
    }
   ],
   "source": [
    "print(my_robot.tcps())\n",
    "print([round(j,2) for j in my_robot.current_joints()])\n",
    "print(my_robot.current_tcp_pose())"
   ]
  },
  {
   "cell_type": "markdown",
   "id": "53c6306b-feb3-4c8f-88a4-1dbecda425c6",
   "metadata": {},
   "source": [
    "## 📝 Perform Pose Transforms"
   ]
  },
  {
   "cell_type": "code",
   "execution_count": 5,
   "id": "241ee26a-0191-49c5-8fcf-ac7ee760aa64",
   "metadata": {},
   "outputs": [
    {
     "name": "stdout",
     "output_type": "stream",
     "text": [
      "Current\n",
      "Position: [  -91,  -662,   851]\n",
      "Rotation: [ 2.14,  2.14, -0.36]\n",
      "\n",
      "Target\n",
      "Position: [  -91,  -662,   351]\n",
      "Rotation: [ 2.14,  2.14, -0.36]\n"
     ]
    }
   ],
   "source": [
    "current_pose = my_robot.current_tcp_pose()\n",
    "translation = Pose.from_list([0, 0, -500, 0, 0, 0])\n",
    "target_pose = translation * current_pose\n",
    "print(f\"Current\\n{current_pose}\\n\\nTarget\\n{target_pose}\")"
   ]
  },
  {
   "cell_type": "markdown",
   "id": "cedfdfa8-ccd0-43c1-b4ee-a728e3da50e1",
   "metadata": {},
   "source": [
    "## 🎢 Plan a Motion"
   ]
  },
  {
   "cell_type": "code",
   "execution_count": 6,
   "id": "2b67506d-4d96-472d-b3f6-9f99dcb76cc6",
   "metadata": {},
   "outputs": [
    {
     "name": "stdout",
     "output_type": "stream",
     "text": [
      "motion id: ffb36a04-6ffc-451b-ae91-2984058a0c60\n"
     ]
    }
   ],
   "source": [
    "planner = Planner(my_robot)\n",
    "trajectory = [\n",
    "    planner.jptp(joints=HOME),\n",
    "    planner.line(pose=target_pose),\n",
    "    planner.jptp(joints=HOME),\n",
    "]\n",
    "plan_result = planner.plan(\n",
    "    start_joints=my_robot.current_joints(), trajectory=trajectory\n",
    ")\n",
    "print(\"motion id:\", plan_result.motion)"
   ]
  },
  {
   "cell_type": "markdown",
   "id": "f3463d22-a9f0-4f81-99d5-53be5579bc18",
   "metadata": {},
   "source": [
    "## 🏃🏽‍♀️ Execute Motion"
   ]
  },
  {
   "cell_type": "code",
   "execution_count": 7,
   "id": "49fcd962-099a-44af-97a7-1b3296e7a1f4",
   "metadata": {},
   "outputs": [
    {
     "name": "stdout",
     "output_type": "stream",
     "text": [
      "Current Location: 0.05587199106230991\n",
      "Current Location: 0.2165839189956829\n",
      "Current Location: 0.43785051179364215\n",
      "Current Location: 0.6595234836592838\n",
      "Current Location: 0.8668485777731764\n",
      "Current Location: 0.9812466221078786\n",
      "Current Location: 1.0047674082229405\n",
      "Current Location: 1.0808172926272794\n",
      "Current Location: 1.2610340994405633\n",
      "Current Location: 1.4808420828290316\n",
      "Current Location: 1.670701217215598\n",
      "Current Location: 1.8510355501595845\n",
      "Current Location: 1.9704631684592295\n",
      "Current Location: 2.0015819335854608\n",
      "Current Location: 2.0683649178169827\n",
      "Current Location: 2.2400071495017433\n",
      "Current Location: 2.4616801206269328\n",
      "Current Location: 2.68335309249254\n",
      "Current Location: 2.8867778564245903\n",
      "Current Location: 2.988390157900401\n"
     ]
    }
   ],
   "source": [
    "async for state in my_robot.execute_motion_stream_async(motion=plan_result.motion, speed=25, response_rate_ms=500):\n",
    "    current_location = state.current_location_on_trajectory\n",
    "    print(f\"Current Location: {current_location}\")"
   ]
  }
 ],
 "metadata": {
  "kernelspec": {
   "display_name": ".venv",
   "language": "python",
   "name": "python3"
  },
  "language_info": {
   "codemirror_mode": {
    "name": "ipython",
    "version": 3
   },
   "file_extension": ".py",
   "mimetype": "text/x-python",
   "name": "python",
   "nbconvert_exporter": "python",
   "pygments_lexer": "ipython3",
   "version": "3.11.4"
  }
 },
 "nbformat": 4,
 "nbformat_minor": 5
}
