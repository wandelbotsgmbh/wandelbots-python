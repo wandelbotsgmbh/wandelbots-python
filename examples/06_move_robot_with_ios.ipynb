{
 "cells": [
  {
   "cell_type": "code",
   "execution_count": 1,
   "id": "cfc12560",
   "metadata": {},
   "outputs": [
    {
     "name": "stdout",
     "output_type": "stream",
     "text": [
      "Requirement already satisfied: wandelbots in /home/patrick/development/wandelbots-python/.venv/lib/python3.11/site-packages (0.3.2)\n",
      "Requirement already satisfied: httpx==0.27.2 in /home/patrick/development/wandelbots-python/.venv/lib/python3.11/site-packages (from wandelbots) (0.27.2)\n",
      "Requirement already satisfied: numpy<2.0,>=1.26 in /home/patrick/development/wandelbots-python/.venv/lib/python3.11/site-packages (from wandelbots) (1.26.4)\n",
      "Requirement already satisfied: requests==2.32.3 in /home/patrick/development/wandelbots-python/.venv/lib/python3.11/site-packages (from wandelbots) (2.32.3)\n",
      "Requirement already satisfied: scipy<2.0,>=1.11 in /home/patrick/development/wandelbots-python/.venv/lib/python3.11/site-packages (from wandelbots) (1.13.1)\n",
      "Requirement already satisfied: wandelbots_api_client==24.5.0 in /home/patrick/development/wandelbots-python/.venv/lib/python3.11/site-packages (from wandelbots) (24.5.0)\n",
      "Requirement already satisfied: websockets==13.0.1 in /home/patrick/development/wandelbots-python/.venv/lib/python3.11/site-packages (from wandelbots) (13.0.1)\n",
      "Requirement already satisfied: anyio in /home/patrick/development/wandelbots-python/.venv/lib/python3.11/site-packages (from httpx==0.27.2->wandelbots) (4.6.2.post1)\n",
      "Requirement already satisfied: certifi in /home/patrick/development/wandelbots-python/.venv/lib/python3.11/site-packages (from httpx==0.27.2->wandelbots) (2024.8.30)\n",
      "Requirement already satisfied: httpcore==1.* in /home/patrick/development/wandelbots-python/.venv/lib/python3.11/site-packages (from httpx==0.27.2->wandelbots) (1.0.6)\n",
      "Requirement already satisfied: idna in /home/patrick/development/wandelbots-python/.venv/lib/python3.11/site-packages (from httpx==0.27.2->wandelbots) (3.10)\n",
      "Requirement already satisfied: sniffio in /home/patrick/development/wandelbots-python/.venv/lib/python3.11/site-packages (from httpx==0.27.2->wandelbots) (1.3.1)\n",
      "Requirement already satisfied: charset-normalizer<4,>=2 in /home/patrick/development/wandelbots-python/.venv/lib/python3.11/site-packages (from requests==2.32.3->wandelbots) (3.4.0)\n",
      "Requirement already satisfied: urllib3<3,>=1.21.1 in /home/patrick/development/wandelbots-python/.venv/lib/python3.11/site-packages (from requests==2.32.3->wandelbots) (2.2.3)\n",
      "Requirement already satisfied: aiohttp>=3.8.4 in /home/patrick/development/wandelbots-python/.venv/lib/python3.11/site-packages (from wandelbots_api_client==24.5.0->wandelbots) (3.10.10)\n",
      "Requirement already satisfied: aiohttp-retry>=2.8.3 in /home/patrick/development/wandelbots-python/.venv/lib/python3.11/site-packages (from wandelbots_api_client==24.5.0->wandelbots) (2.8.3)\n",
      "Requirement already satisfied: annotated-types in /home/patrick/development/wandelbots-python/.venv/lib/python3.11/site-packages (from wandelbots_api_client==24.5.0->wandelbots) (0.7.0)\n",
      "Requirement already satisfied: furl in /home/patrick/development/wandelbots-python/.venv/lib/python3.11/site-packages (from wandelbots_api_client==24.5.0->wandelbots) (2.1.3)\n",
      "Requirement already satisfied: pydantic>=2 in /home/patrick/development/wandelbots-python/.venv/lib/python3.11/site-packages (from wandelbots_api_client==24.5.0->wandelbots) (2.9.2)\n",
      "Requirement already satisfied: pydantic_core in /home/patrick/development/wandelbots-python/.venv/lib/python3.11/site-packages (from wandelbots_api_client==24.5.0->wandelbots) (2.23.4)\n",
      "Requirement already satisfied: pyhumps in /home/patrick/development/wandelbots-python/.venv/lib/python3.11/site-packages (from wandelbots_api_client==24.5.0->wandelbots) (3.8.0)\n",
      "Requirement already satisfied: python-dateutil>=2.8.2 in /home/patrick/development/wandelbots-python/.venv/lib/python3.11/site-packages (from wandelbots_api_client==24.5.0->wandelbots) (2.9.0.post0)\n",
      "Requirement already satisfied: typing-extensions>=4.7.1 in /home/patrick/development/wandelbots-python/.venv/lib/python3.11/site-packages (from wandelbots_api_client==24.5.0->wandelbots) (4.12.2)\n",
      "Requirement already satisfied: h11<0.15,>=0.13 in /home/patrick/development/wandelbots-python/.venv/lib/python3.11/site-packages (from httpcore==1.*->httpx==0.27.2->wandelbots) (0.14.0)\n",
      "Requirement already satisfied: aiohappyeyeballs>=2.3.0 in /home/patrick/development/wandelbots-python/.venv/lib/python3.11/site-packages (from aiohttp>=3.8.4->wandelbots_api_client==24.5.0->wandelbots) (2.4.3)\n",
      "Requirement already satisfied: aiosignal>=1.1.2 in /home/patrick/development/wandelbots-python/.venv/lib/python3.11/site-packages (from aiohttp>=3.8.4->wandelbots_api_client==24.5.0->wandelbots) (1.3.1)\n",
      "Requirement already satisfied: attrs>=17.3.0 in /home/patrick/development/wandelbots-python/.venv/lib/python3.11/site-packages (from aiohttp>=3.8.4->wandelbots_api_client==24.5.0->wandelbots) (24.2.0)\n",
      "Requirement already satisfied: frozenlist>=1.1.1 in /home/patrick/development/wandelbots-python/.venv/lib/python3.11/site-packages (from aiohttp>=3.8.4->wandelbots_api_client==24.5.0->wandelbots) (1.4.1)\n",
      "Requirement already satisfied: multidict<7.0,>=4.5 in /home/patrick/development/wandelbots-python/.venv/lib/python3.11/site-packages (from aiohttp>=3.8.4->wandelbots_api_client==24.5.0->wandelbots) (6.1.0)\n",
      "Requirement already satisfied: yarl<2.0,>=1.12.0 in /home/patrick/development/wandelbots-python/.venv/lib/python3.11/site-packages (from aiohttp>=3.8.4->wandelbots_api_client==24.5.0->wandelbots) (1.15.5)\n",
      "Requirement already satisfied: six>=1.5 in /home/patrick/development/wandelbots-python/.venv/lib/python3.11/site-packages (from python-dateutil>=2.8.2->wandelbots_api_client==24.5.0->wandelbots) (1.16.0)\n",
      "Requirement already satisfied: orderedmultidict>=1.0.1 in /home/patrick/development/wandelbots-python/.venv/lib/python3.11/site-packages (from furl->wandelbots_api_client==24.5.0->wandelbots) (1.0.1)\n",
      "Requirement already satisfied: propcache>=0.2.0 in /home/patrick/development/wandelbots-python/.venv/lib/python3.11/site-packages (from yarl<2.0,>=1.12.0->aiohttp>=3.8.4->wandelbots_api_client==24.5.0->wandelbots) (0.2.0)\n",
      "\n",
      "\u001b[1m[\u001b[0m\u001b[34;49mnotice\u001b[0m\u001b[1;39;49m]\u001b[0m\u001b[39;49m A new release of pip is available: \u001b[0m\u001b[31;49m24.1\u001b[0m\u001b[39;49m -> \u001b[0m\u001b[32;49m24.2\u001b[0m\n",
      "\u001b[1m[\u001b[0m\u001b[34;49mnotice\u001b[0m\u001b[1;39;49m]\u001b[0m\u001b[39;49m To update, run: \u001b[0m\u001b[32;49mpip install --upgrade pip\u001b[0m\n",
      "Note: you may need to restart the kernel to use updated packages.\n",
      "Requirement already satisfied: python-dotenv in /home/patrick/development/wandelbots-python/.venv/lib/python3.11/site-packages (1.0.1)\n",
      "\n",
      "\u001b[1m[\u001b[0m\u001b[34;49mnotice\u001b[0m\u001b[1;39;49m]\u001b[0m\u001b[39;49m A new release of pip is available: \u001b[0m\u001b[31;49m24.1\u001b[0m\u001b[39;49m -> \u001b[0m\u001b[32;49m24.2\u001b[0m\n",
      "\u001b[1m[\u001b[0m\u001b[34;49mnotice\u001b[0m\u001b[1;39;49m]\u001b[0m\u001b[39;49m To update, run: \u001b[0m\u001b[32;49mpip install --upgrade pip\u001b[0m\n",
      "Note: you may need to restart the kernel to use updated packages.\n"
     ]
    }
   ],
   "source": [
    "%pip install wandelbots\n",
    "%pip install python-dotenv"
   ]
  },
  {
   "cell_type": "code",
   "execution_count": 2,
   "id": "a9eb2f8c-2527-4ea6-bc1f-8de808a88ad8",
   "metadata": {},
   "outputs": [],
   "source": [
    "import os\n",
    "from dotenv import load_dotenv\n",
    "from wandelbots import Instance, MotionGroup, Planner\n",
    "from wandelbots.types import Pose\n",
    "\n",
    "load_dotenv()"
   ]
  },
  {
   "cell_type": "code",
   "execution_count": 3,
   "id": "7294c7e3",
   "metadata": {},
   "outputs": [],
   "source": [
    "os.environ[\"WANDELAPI_BASE_URL\"] = \"http://172.30.0.199\"\n",
    "# os.environ[\"NOVA_USERNAME\"] = \"wb\"\n",
    "# os.environ[\"NOVA_PASSWORD\"] = \"your_password\"\n",
    "os.environ[\"CELL_ID\"] = \"cell\"\n",
    "os.environ[\"MOTION_GROUP\"] = \"0@myrobot\"\n",
    "os.environ[\"TCP\"] = \"Flange\""
   ]
  },
  {
   "cell_type": "markdown",
   "id": "2dfb16fe",
   "metadata": {},
   "source": [
    "## 🤖 Show Robot-Pad"
   ]
  },
  {
   "cell_type": "code",
   "execution_count": 4,
   "id": "b74681ee",
   "metadata": {},
   "outputs": [
    {
     "data": {
      "text/html": [
       "\n",
       "        <iframe\n",
       "            width=\"700\"\n",
       "            height=\"600\"\n",
       "            src=\"http://172.30.0.199/cell/robot-pad\"\n",
       "            frameborder=\"0\"\n",
       "            allowfullscreen\n",
       "            \n",
       "        ></iframe>\n",
       "        "
      ],
      "text/plain": [
       "<IPython.lib.display.IFrame at 0x76524a5ccf90>"
      ]
     },
     "execution_count": 4,
     "metadata": {},
     "output_type": "execute_result"
    }
   ],
   "source": [
    "from IPython.display import IFrame\n",
    "\n",
    "IFrame(src=os.getenv(\"WANDELAPI_BASE_URL\") + \"/cell/robot-pad\", width=700, height=600)"
   ]
  },
  {
   "cell_type": "markdown",
   "id": "6c6696d7-c0c9-46dc-b3b7-b5ae1dbe2e13",
   "metadata": {},
   "source": [
    "## ⚙️ Configure Robot"
   ]
  },
  {
   "cell_type": "code",
   "execution_count": 5,
   "id": "73548c34-9434-4043-b6a9-51ac98fac701",
   "metadata": {},
   "outputs": [],
   "source": [
    "my_instance = Instance(\n",
    "    url=os.getenv(\"WANDELAPI_BASE_URL\")\n",
    "    # user=os.getenv(\"NOVA_USERNAME\"),\n",
    "    # password=os.getenv(\"NOVA_PASSWORD\"),\n",
    ")\n",
    "\n",
    "my_robot = MotionGroup(\n",
    "    instance=my_instance,\n",
    "    cell=os.getenv(\"CELL_ID\"),\n",
    "    motion_group=os.getenv(\"MOTION_GROUP\"),\n",
    "    default_tcp=os.getenv(\"TCP\"),\n",
    ")"
   ]
  },
  {
   "cell_type": "markdown",
   "id": "c1002989-6c6d-4b7b-b9e4-491d982cdbd6",
   "metadata": {},
   "source": [
    "## 🔩 Get Robot Props & State"
   ]
  },
  {
   "cell_type": "code",
   "execution_count": 6,
   "id": "ca1f4322-f721-469c-9b24-64fc095a21fe",
   "metadata": {},
   "outputs": [
    {
     "name": "stdout",
     "output_type": "stream",
     "text": [
      "['Flange']\n",
      "[1.17, -1.66, 1.4, -1.57, -1.57, 1.17]\n",
      "Position: [\u001b[31m\u001b[1m  -91\u001b[0m\u001b[0m, \u001b[32m\u001b[1m -662\u001b[0m\u001b[0m, \u001b[34m\u001b[1m  851\u001b[0m\u001b[0m]\n",
      "Rotation: [\u001b[31m\u001b[1m 2.14\u001b[0m\u001b[0m, \u001b[32m\u001b[1m 2.14\u001b[0m\u001b[0m, \u001b[34m\u001b[1m-0.36\u001b[0m\u001b[0m]\n"
     ]
    }
   ],
   "source": [
    "print(my_robot.tcps())\n",
    "print([round(j, 2) for j in my_robot.current_joints()])\n",
    "print(my_robot.current_tcp_pose())"
   ]
  },
  {
   "cell_type": "markdown",
   "id": "53c6306b-feb3-4c8f-88a4-1dbecda425c6",
   "metadata": {},
   "source": [
    "## 📝 Perform Pose Transforms"
   ]
  },
  {
   "cell_type": "code",
   "execution_count": 7,
   "id": "241ee26a-0191-49c5-8fcf-ac7ee760aa64",
   "metadata": {},
   "outputs": [
    {
     "name": "stdout",
     "output_type": "stream",
     "text": [
      "Current\n",
      "Position: [\u001b[31m\u001b[1m  -91\u001b[0m\u001b[0m, \u001b[32m\u001b[1m -662\u001b[0m\u001b[0m, \u001b[34m\u001b[1m  851\u001b[0m\u001b[0m]\n",
      "Rotation: [\u001b[31m\u001b[1m 2.14\u001b[0m\u001b[0m, \u001b[32m\u001b[1m 2.14\u001b[0m\u001b[0m, \u001b[34m\u001b[1m-0.36\u001b[0m\u001b[0m]\n",
      "\n",
      "Target\n",
      "Position: [\u001b[31m\u001b[1m  -91\u001b[0m\u001b[0m, \u001b[32m\u001b[1m -662\u001b[0m\u001b[0m, \u001b[34m\u001b[1m  451\u001b[0m\u001b[0m]\n",
      "Rotation: [\u001b[31m\u001b[1m 2.14\u001b[0m\u001b[0m, \u001b[32m\u001b[1m 2.14\u001b[0m\u001b[0m, \u001b[34m\u001b[1m-0.36\u001b[0m\u001b[0m]\n"
     ]
    }
   ],
   "source": [
    "current_pose = my_robot.current_tcp_pose()\n",
    "translation = Pose.from_list([0, 0, -400, 0, 0, 0])\n",
    "target_pose = translation * current_pose\n",
    "print(f\"Current\\n{current_pose}\\n\\nTarget\\n{target_pose}\")"
   ]
  },
  {
   "cell_type": "markdown",
   "id": "cedfdfa8-ccd0-43c1-b4ee-a728e3da50e1",
   "metadata": {},
   "source": [
    "## 🎢 Plan a Motion"
   ]
  },
  {
   "cell_type": "code",
   "execution_count": 21,
   "id": "2b67506d-4d96-472d-b3f6-9f99dcb76cc6",
   "metadata": {},
   "outputs": [
    {
     "name": "stdout",
     "output_type": "stream",
     "text": [
      "motion id: 85e25535-5649-4e54-ad55-25c28d726ab2\n"
     ]
    }
   ],
   "source": [
    "HOME = my_robot.current_joints()\n",
    "\n",
    "planner = Planner(my_robot)\n",
    "trajectory = [\n",
    "    planner.jptp(target=HOME),\n",
    "    planner.io(key=\"tool_out[0]\", value=True),\n",
    "    planner.line(target=target_pose),\n",
    "    planner.io(key=\"tool_out[1]\", value=False),\n",
    "    planner.jptp(target=HOME),\n",
    "]\n",
    "plan_result, io_actions = planner.plan(start_joints=my_robot.current_joints(), trajectory=trajectory)\n",
    "\n",
    "print(\"motion id:\", plan_result.motion)"
   ]
  },
  {
   "cell_type": "markdown",
   "id": "f3463d22-a9f0-4f81-99d5-53be5579bc18",
   "metadata": {},
   "source": [
    "## 🏃🏽‍♀️ Execute Motion"
   ]
  },
  {
   "cell_type": "code",
   "execution_count": 22,
   "id": "52570066-da63-4909-b2ea-a56699647f80",
   "metadata": {},
   "outputs": [
    {
     "name": "stdout",
     "output_type": "stream",
     "text": [
      "tool_out[0]: False\n",
      "tool_out[1]: True\n"
     ]
    }
   ],
   "source": [
    "io_names = [action.io.key for action in io_actions]\n",
    "ios = my_robot.get_ios(io_names)\n",
    "print(f\"{ios[0]}\\n{ios[1]}\")"
   ]
  },
  {
   "cell_type": "code",
   "execution_count": 23,
   "id": "94516c55-db3e-4769-8d51-8c0a716ddb60",
   "metadata": {},
   "outputs": [
    {
     "name": "stdout",
     "output_type": "stream",
     "text": [
      "Got Response\n",
      "Got Response\n",
      "Got Response\n",
      "Got Response\n",
      "Got Response\n",
      "Got Response\n",
      "Got Response\n",
      "Got Response\n",
      "Got Response\n",
      "Got Response\n",
      "Got Response\n",
      "Got Response\n",
      "Got Response\n",
      "Got Response\n",
      "Got Response\n",
      "Got Response\n",
      "Got Response\n",
      "Got Response\n",
      "Got Response\n",
      "Got Response\n",
      "Got Response\n",
      "Got Response\n",
      "Got Response\n",
      "Got Response\n"
     ]
    }
   ],
   "source": [
    "result = await my_robot.execute_motion_with_ios_async(motion=plan_result.motion, speed=25, io_values=io_actions)"
   ]
  },
  {
   "cell_type": "code",
   "execution_count": 24,
   "id": "7fe04439-b577-49a9-be56-ff872ad4f25e",
   "metadata": {},
   "outputs": [
    {
     "name": "stdout",
     "output_type": "stream",
     "text": [
      "tool_out[0]: True\n",
      "tool_out[1]: False\n"
     ]
    }
   ],
   "source": [
    "ios = my_robot.get_ios(io_names)\n",
    "print(f\"{ios[0]}\\n{ios[1]}\")"
   ]
  },
  {
   "cell_type": "code",
   "execution_count": null,
   "id": "b3811d79-eec7-4ee7-8b96-f6c21a101eed",
   "metadata": {},
   "outputs": [],
   "source": []
  }
 ],
 "metadata": {
  "kernelspec": {
   "display_name": "Python 3 (ipykernel)",
   "language": "python",
   "name": "python3"
  },
  "language_info": {
   "codemirror_mode": {
    "name": "ipython",
    "version": 3
   },
   "file_extension": ".py",
   "mimetype": "text/x-python",
   "name": "python",
   "nbconvert_exporter": "python",
   "pygments_lexer": "ipython3",
   "version": "3.11.10"
  }
 },
 "nbformat": 4,
 "nbformat_minor": 5
}
